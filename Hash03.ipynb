{
 "cells": [
  {
   "cell_type": "markdown",
   "metadata": {},
   "source": [
    "스파이들은 매일 다른 옷을 조합하여 입어 자신을 위장합니다.\n",
    "\n",
    "예를 들어 스파이가 가진 옷이 아래와 같고 오늘 스파이가 동그란 안경, 긴 코트, 파란색 티셔츠를 입었다면 다음날은 청바지를 추가로 입거나 동그란 안경 대신 검정 선글라스를 착용하거나 해야 합니다.\n",
    "\n",
    "- 얼굴: 동그란 안경, 검정 선그라스\n",
    "- 상의: 파란색 티셔츠\n",
    "- 하의: 청바지\n",
    "- 겉옷: 긴 코트\n",
    "\n",
    "스파이가 가진 의상들이 담긴 2차원 배열 clothes가 주어질 때 서로 다른 옷의 조합의 수를 return 하도록 solution 함수를 작성해주세요."
   ]
  },
  {
   "cell_type": "code",
   "execution_count": 120,
   "metadata": {},
   "outputs": [],
   "source": [
    "# 내풀이: 값은 맞게 나오나.. 유효성 체크에서 실패 뜸..\n",
    "def solution(clothes):\n",
    "   \n",
    "    clothes = dict(clothes)\n",
    "    \n",
    "    d = {}\n",
    "\n",
    "    for x in clothes.values():\n",
    "        d[x] = d.get(x, 0) + 1\n",
    "\n",
    "    if len(d.keys()) == 1 :\n",
    "        answer = len(clothes.values()) \n",
    "        \n",
    "    else:\n",
    "        answer = len(clothes.values()) + max(d.values())\n",
    "        \n",
    "    return answer"
   ]
  },
  {
   "cell_type": "code",
   "execution_count": 122,
   "metadata": {},
   "outputs": [
    {
     "data": {
      "text/plain": [
       "5"
      ]
     },
     "execution_count": 122,
     "metadata": {},
     "output_type": "execute_result"
    }
   ],
   "source": [
    "solution([['yellow_hat', 'headgear'], ['blue_sunglasses', 'eyewear'], ['green_turban', 'headgear']])"
   ]
  },
  {
   "cell_type": "markdown",
   "metadata": {},
   "source": [
    "### Collections 모듈을 사용해보자\n",
    "-https://m.blog.naver.com/PostView.nhn?blogId=ouo7581&logNo=221543909505&proxyReferer=https:%2F%2Fwww.google.com%2F"
   ]
  },
  {
   "cell_type": "markdown",
   "metadata": {},
   "source": [
    "#### counter 모듈\n",
    "- 시퀀스 자료형의 데이터 요소 개수를 딕셔너리 형태로 반환하는 자료 구조.\n",
    "- 리스트나 문자열 같은 시퀀스 자료형 안의 요소 중 값이 같은 것이 몇개 있는지 반환"
   ]
  },
  {
   "cell_type": "code",
   "execution_count": 127,
   "metadata": {},
   "outputs": [],
   "source": [
    "# 다른사람의 풀이\n",
    "import collections\n",
    "\n",
    "def solution(clothes):\n",
    "    answer = 1\n",
    "    dic = dict()\n",
    "    \n",
    "    for name, kind in clothes:\n",
    "        if kind not in dic:\n",
    "            dic[kind] = 1\n",
    "        else:\n",
    "            dic[kind] += 1\n",
    "    \n",
    "    for val in dic.values():\n",
    "        answer *= (val + 1)\n",
    "    \n",
    "    return answer - 1"
   ]
  },
  {
   "cell_type": "markdown",
   "metadata": {},
   "source": [
    "#### Reduce 모듈\n",
    "reduce는 어떤 list에 대해서 computation을 해서 결과를 내보낼 때, 즉 결과를 어떤 함수로 computation해서 결과를 축약하기 위해서 사용됨..\n",
    "이 때, reduce함수에 input으로 들어가는 함수는 두 element를 연산하는 로직을 넣어야 합니다. 이것은 list comprehension으로 하지 못하는 것입니다. \n",
    "출처: https://3months.tistory.com/338"
   ]
  },
  {
   "cell_type": "code",
   "execution_count": null,
   "metadata": {},
   "outputs": [],
   "source": [
    "# 다른 사람의 풀이\n",
    "\n",
    "def solution(clothes):\n",
    "    from collections import Counter\n",
    "    from functools import reduce\n",
    "    \n",
    "    cnt = Counter([kind for name, kind in clothes])\n",
    "    answer = reduce(lambda x, y: x*(y+1), cnt.values(), 1) - 1\n",
    "    return answer"
   ]
  },
  {
   "cell_type": "code",
   "execution_count": null,
   "metadata": {},
   "outputs": [],
   "source": [
    "https://programmers.co.kr/learn/courses/30/lessons/42578/solution_groups?language=python3"
   ]
  }
 ],
 "metadata": {
  "kernelspec": {
   "display_name": "Python 3",
   "language": "python",
   "name": "python3"
  },
  "language_info": {
   "codemirror_mode": {
    "name": "ipython",
    "version": 3
   },
   "file_extension": ".py",
   "mimetype": "text/x-python",
   "name": "python",
   "nbconvert_exporter": "python",
   "pygments_lexer": "ipython3",
   "version": "3.7.6"
  }
 },
 "nbformat": 4,
 "nbformat_minor": 4
}
